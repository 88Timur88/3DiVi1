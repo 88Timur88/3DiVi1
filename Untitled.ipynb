{
  "nbformat": 4,
  "nbformat_minor": 0,
  "metadata": {
    "colab": {
      "provenance": []
    },
    "kernelspec": {
      "name": "python3",
      "display_name": "Python 3"
    },
    "language_info": {
      "name": "python"
    }
  },
  "cells": [
    {
      "cell_type": "code",
      "execution_count": null,
      "metadata": {
        "colab": {
          "base_uri": "https://localhost:8080/"
        },
        "id": "fbDAslLT55WB",
        "outputId": "c67e2bcd-413d-4663-b833-812c649097f9"
      },
      "outputs": [
        {
          "output_type": "execute_result",
          "data": {
            "text/plain": [
              "array([[0.14658935, 0.00356607, 0.36097172, 0.13294612],\n",
              "       [0.50519405, 0.04603389, 0.09632299, 0.5692465 ],\n",
              "       [0.73664942, 0.21590648, 0.14881263, 0.22096616],\n",
              "       [0.1045766 , 0.08853335, 0.53633545, 0.15978829]])"
            ]
          },
          "metadata": {},
          "execution_count": 6
        }
      ],
      "source": [
        "import numpy as np\n",
        "np.random.random((4, 4))\n"
      ]
    }
  ]
}